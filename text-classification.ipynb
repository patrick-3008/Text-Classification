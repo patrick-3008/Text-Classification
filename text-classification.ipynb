{
 "cells": [
  {
   "cell_type": "markdown",
   "metadata": {},
   "source": [
    "# imports"
   ]
  },
  {
   "cell_type": "code",
   "execution_count": 68,
   "metadata": {},
   "outputs": [],
   "source": [
    "import torch\n",
    "import torch.nn as nn\n",
    "from torch.optim import Adam\n",
    "from transformers import AutoTokenizer, AutoModel\n",
    "from torch.utils.data import Dataset, DataLoader\n",
    "from sklearn.model_selection import train_test_split\n",
    "from sklearn.metrics import accuracy_score\n",
    "import matplotlib.pyplot as plt\n",
    "import pandas as pd\n",
    "import numpy as np"
   ]
  },
  {
   "cell_type": "code",
   "execution_count": 69,
   "metadata": {},
   "outputs": [
    {
     "data": {
      "text/plain": [
       "'cuda'"
      ]
     },
     "execution_count": 69,
     "metadata": {},
     "output_type": "execute_result"
    }
   ],
   "source": [
    "device = 'cuda' if torch.cuda.is_available() else 'cpu'\n",
    "device"
   ]
  },
  {
   "cell_type": "markdown",
   "metadata": {},
   "source": [
    "# Data preprocessing"
   ]
  },
  {
   "cell_type": "code",
   "execution_count": 70,
   "metadata": {},
   "outputs": [
    {
     "name": "stdout",
     "output_type": "stream",
     "text": [
      "(26709, 3)\n"
     ]
    },
    {
     "data": {
      "text/html": [
       "<div>\n",
       "<style scoped>\n",
       "    .dataframe tbody tr th:only-of-type {\n",
       "        vertical-align: middle;\n",
       "    }\n",
       "\n",
       "    .dataframe tbody tr th {\n",
       "        vertical-align: top;\n",
       "    }\n",
       "\n",
       "    .dataframe thead th {\n",
       "        text-align: right;\n",
       "    }\n",
       "</style>\n",
       "<table border=\"1\" class=\"dataframe\">\n",
       "  <thead>\n",
       "    <tr style=\"text-align: right;\">\n",
       "      <th></th>\n",
       "      <th>article_link</th>\n",
       "      <th>headline</th>\n",
       "      <th>is_sarcastic</th>\n",
       "    </tr>\n",
       "  </thead>\n",
       "  <tbody>\n",
       "    <tr>\n",
       "      <th>0</th>\n",
       "      <td>https://www.huffingtonpost.com/entry/versace-b...</td>\n",
       "      <td>former versace store clerk sues over secret 'b...</td>\n",
       "      <td>0</td>\n",
       "    </tr>\n",
       "    <tr>\n",
       "      <th>1</th>\n",
       "      <td>https://www.huffingtonpost.com/entry/roseanne-...</td>\n",
       "      <td>the 'roseanne' revival catches up to our thorn...</td>\n",
       "      <td>0</td>\n",
       "    </tr>\n",
       "    <tr>\n",
       "      <th>2</th>\n",
       "      <td>https://local.theonion.com/mom-starting-to-fea...</td>\n",
       "      <td>mom starting to fear son's web series closest ...</td>\n",
       "      <td>1</td>\n",
       "    </tr>\n",
       "    <tr>\n",
       "      <th>3</th>\n",
       "      <td>https://politics.theonion.com/boehner-just-wan...</td>\n",
       "      <td>boehner just wants wife to listen, not come up...</td>\n",
       "      <td>1</td>\n",
       "    </tr>\n",
       "    <tr>\n",
       "      <th>4</th>\n",
       "      <td>https://www.huffingtonpost.com/entry/jk-rowlin...</td>\n",
       "      <td>j.k. rowling wishes snape happy birthday in th...</td>\n",
       "      <td>0</td>\n",
       "    </tr>\n",
       "  </tbody>\n",
       "</table>\n",
       "</div>"
      ],
      "text/plain": [
       "                                        article_link  \\\n",
       "0  https://www.huffingtonpost.com/entry/versace-b...   \n",
       "1  https://www.huffingtonpost.com/entry/roseanne-...   \n",
       "2  https://local.theonion.com/mom-starting-to-fea...   \n",
       "3  https://politics.theonion.com/boehner-just-wan...   \n",
       "4  https://www.huffingtonpost.com/entry/jk-rowlin...   \n",
       "\n",
       "                                            headline  is_sarcastic  \n",
       "0  former versace store clerk sues over secret 'b...             0  \n",
       "1  the 'roseanne' revival catches up to our thorn...             0  \n",
       "2  mom starting to fear son's web series closest ...             1  \n",
       "3  boehner just wants wife to listen, not come up...             1  \n",
       "4  j.k. rowling wishes snape happy birthday in th...             0  "
      ]
     },
     "execution_count": 70,
     "metadata": {},
     "output_type": "execute_result"
    }
   ],
   "source": [
    "df = pd.read_json(\"Dataset/Sarcasm_Headlines_Dataset.json\", lines=True)\n",
    "df.dropna(inplace=True)\n",
    "print(df.shape)\n",
    "df.head()"
   ]
  },
  {
   "cell_type": "code",
   "execution_count": 71,
   "metadata": {},
   "outputs": [],
   "source": [
    "# Training Size 70%\n",
    "# Validation Size 15%\n",
    "# Testing Size 15%\n",
    "X_train, X_test, y_train, y_test = train_test_split(np.array(df[\"headline\"]), np.array(df[\"is_sarcastic\"]), test_size=0.3)\n",
    "X_val, X_test, y_val, y_test = train_test_split(X_test, y_test, test_size=0.5)"
   ]
  },
  {
   "cell_type": "code",
   "execution_count": 72,
   "metadata": {},
   "outputs": [
    {
     "name": "stdout",
     "output_type": "stream",
     "text": [
      "Training set is:  18696  rows which is  70.0 %\n",
      "Validation set is:  4006  rows which is  15.0 %\n",
      "Testing set is:  4007  rows which is  15.0 %\n"
     ]
    }
   ],
   "source": [
    "print(\"Training set is: \", X_train.shape[0], \" rows which is \", round(X_train.shape[0]/df.shape[0],4)*100, \"%\")\n",
    "print(\"Validation set is: \", X_val.shape[0], \" rows which is \", round(X_val.shape[0]/df.shape[0],4)*100, \"%\")\n",
    "print(\"Testing set is: \", X_test.shape[0], \" rows which is \", round(X_test.shape[0]/df.shape[0],4)*100, \"%\")"
   ]
  },
  {
   "cell_type": "markdown",
   "metadata": {},
   "source": [
    "# Model"
   ]
  },
  {
   "cell_type": "code",
   "execution_count": 73,
   "metadata": {},
   "outputs": [],
   "source": [
    "# Load model directly\n",
    "from transformers import AutoTokenizer, AutoModelForMaskedLM\n",
    "from transformers import BertModel\n",
    "\n",
    "tokenizer = AutoTokenizer.from_pretrained(\"bert-base-uncased\")\n",
    "bert_model = BertModel.from_pretrained(\"bert-base-uncased\")"
   ]
  },
  {
   "cell_type": "code",
   "execution_count": 74,
   "metadata": {},
   "outputs": [],
   "source": [
    "class dataset(Dataset):\n",
    "    def __init__(self, X, Y):\n",
    "        self.X = [tokenizer(x, max_length = 100, truncation = True, padding = 'max_length', return_tensors='pt').to(device)\n",
    "                  for x in X\n",
    "                 ]\n",
    "        self.Y = torch.tensor(Y, dtype = torch.float32).to(device)\n",
    "        \n",
    "    def __len__(self):\n",
    "        return len(self.X)\n",
    "    def __getitem__(self, index):\n",
    "        return self.X[index], self.Y[index]\n",
    "\n",
    "training_data = dataset(X_train, y_train)\n",
    "validation_data = dataset(X_val, y_val)\n",
    "testing_data = dataset(X_test, y_test)"
   ]
  },
  {
   "cell_type": "code",
   "execution_count": 75,
   "metadata": {},
   "outputs": [],
   "source": [
    "class MyModel(nn.Module):\n",
    "    def __init__(self, bert):\n",
    "\n",
    "        super(MyModel, self).__init__()\n",
    "\n",
    "        self.bert = bert\n",
    "        self.dropout = nn.Dropout(0.25)\n",
    "        self.linear1 = nn.Linear(768, 384)\n",
    "        self.linear2 = nn.Linear(384, 1)\n",
    "        self.sigmoid = nn.Sigmoid()\n",
    "\n",
    "    def forward(self, input_ids, attention_mask):\n",
    "        pooled_output = self.bert(input_ids, attention_mask, return_dict = False)[0][:,0]\n",
    "        output = self.linear1(pooled_output)\n",
    "        output = self.dropout(output)\n",
    "        output = self.linear2(output)\n",
    "        output = self.sigmoid(output)\n",
    "        return output"
   ]
  },
  {
   "cell_type": "markdown",
   "metadata": {},
   "source": [
    "# Data Loader"
   ]
  },
  {
   "cell_type": "code",
   "execution_count": 76,
   "metadata": {},
   "outputs": [],
   "source": [
    "BATCH_SIZE = 32\n",
    "EPOCHS = 25\n",
    "LR = 1e-4"
   ]
  },
  {
   "cell_type": "code",
   "execution_count": 77,
   "metadata": {},
   "outputs": [],
   "source": [
    "train_dataloader = DataLoader(training_data, batch_size=BATCH_SIZE, shuffle= True)\n",
    "validation_dataloader = DataLoader(validation_data, batch_size=BATCH_SIZE, shuffle= True)\n",
    "testing_dataloader = DataLoader(testing_data, batch_size=BATCH_SIZE, shuffle= True)"
   ]
  },
  {
   "cell_type": "code",
   "execution_count": 78,
   "metadata": {},
   "outputs": [],
   "source": [
    "for param in bert_model.parameters():\n",
    "    param.requires_grad = False\n",
    "model = MyModel(bert_model).to(device)"
   ]
  },
  {
   "cell_type": "markdown",
   "metadata": {},
   "source": [
    "# Training"
   ]
  },
  {
   "cell_type": "code",
   "execution_count": 79,
   "metadata": {},
   "outputs": [],
   "source": [
    "loss = nn.BCELoss()\n",
    "optimizer = Adam(model.parameters(), lr= LR)"
   ]
  },
  {
   "cell_type": "code",
   "execution_count": 80,
   "metadata": {},
   "outputs": [
    {
     "name": "stdout",
     "output_type": "stream",
     "text": [
      "Epoch no. 1 Train Loss: 0.2593 Train Accuracy: 80.3969 Validation Loss: 0.4856 Validation Accuracy: 82.9755\n",
      "==================================================\n",
      "Epoch no. 2 Train Loss: 0.2117 Train Accuracy: 84.5582 Validation Loss: 0.4460 Validation Accuracy: 83.8492\n",
      "==================================================\n",
      "Epoch no. 3 Train Loss: 0.1991 Train Accuracy: 85.5958 Validation Loss: 0.4317 Validation Accuracy: 85.0225\n",
      "==================================================\n",
      "Epoch no. 4 Train Loss: 0.1928 Train Accuracy: 85.7135 Validation Loss: 0.4222 Validation Accuracy: 85.6216\n",
      "==================================================\n",
      "Epoch no. 5 Train Loss: 0.1877 Train Accuracy: 86.1040 Validation Loss: 0.4194 Validation Accuracy: 85.8213\n",
      "==================================================\n",
      "Epoch no. 6 Train Loss: 0.1839 Train Accuracy: 86.6549 Validation Loss: 0.4095 Validation Accuracy: 85.9710\n",
      "==================================================\n",
      "Epoch no. 7 Train Loss: 0.1828 Train Accuracy: 86.6389 Validation Loss: 0.4129 Validation Accuracy: 85.8462\n",
      "==================================================\n",
      "Epoch no. 8 Train Loss: 0.1807 Train Accuracy: 86.7512 Validation Loss: 0.4152 Validation Accuracy: 85.9211\n",
      "==================================================\n",
      "Epoch no. 9 Train Loss: 0.1787 Train Accuracy: 86.9330 Validation Loss: 0.4047 Validation Accuracy: 86.0709\n",
      "==================================================\n",
      "Epoch no. 10 Train Loss: 0.1776 Train Accuracy: 87.1630 Validation Loss: 0.4130 Validation Accuracy: 86.5202\n",
      "==================================================\n",
      "Epoch no. 11 Train Loss: 0.1776 Train Accuracy: 86.8688 Validation Loss: 0.4047 Validation Accuracy: 86.1458\n",
      "==================================================\n",
      "Epoch no. 12 Train Loss: 0.1758 Train Accuracy: 87.1470 Validation Loss: 0.4098 Validation Accuracy: 86.1707\n",
      "==================================================\n",
      "Epoch no. 13 Train Loss: 0.1747 Train Accuracy: 87.1309 Validation Loss: 0.4048 Validation Accuracy: 86.0459\n",
      "==================================================\n",
      "Epoch no. 14 Train Loss: 0.1760 Train Accuracy: 86.9384 Validation Loss: 0.4070 Validation Accuracy: 86.2956\n",
      "==================================================\n",
      "Epoch no. 15 Train Loss: 0.1735 Train Accuracy: 87.3342 Validation Loss: 0.4013 Validation Accuracy: 86.6700\n",
      "==================================================\n",
      "Epoch no. 16 Train Loss: 0.1733 Train Accuracy: 87.5749 Validation Loss: 0.4087 Validation Accuracy: 86.1957\n",
      "==================================================\n",
      "Epoch no. 17 Train Loss: 0.1733 Train Accuracy: 87.3074 Validation Loss: 0.4044 Validation Accuracy: 86.1208\n",
      "==================================================\n",
      "Epoch no. 18 Train Loss: 0.1732 Train Accuracy: 87.4251 Validation Loss: 0.4104 Validation Accuracy: 86.3704\n",
      "==================================================\n",
      "Epoch no. 19 Train Loss: 0.1718 Train Accuracy: 87.3609 Validation Loss: 0.4054 Validation Accuracy: 86.4453\n",
      "==================================================\n",
      "Epoch no. 20 Train Loss: 0.1730 Train Accuracy: 87.3984 Validation Loss: 0.4012 Validation Accuracy: 86.4953\n",
      "==================================================\n",
      "Epoch no. 21 Train Loss: 0.1717 Train Accuracy: 87.5053 Validation Loss: 0.4241 Validation Accuracy: 85.8962\n",
      "==================================================\n",
      "Epoch no. 22 Train Loss: 0.1720 Train Accuracy: 87.5749 Validation Loss: 0.4106 Validation Accuracy: 86.3954\n",
      "==================================================\n",
      "Epoch no. 23 Train Loss: 0.1716 Train Accuracy: 87.4037 Validation Loss: 0.4055 Validation Accuracy: 85.9710\n",
      "==================================================\n",
      "Epoch no. 24 Train Loss: 0.1710 Train Accuracy: 87.4733 Validation Loss: 0.4102 Validation Accuracy: 86.3455\n",
      "==================================================\n",
      "Epoch no. 25 Train Loss: 0.1707 Train Accuracy: 87.4786 Validation Loss: 0.4057 Validation Accuracy: 86.1458\n",
      "==================================================\n"
     ]
    }
   ],
   "source": [
    "total_loss_train_plot = []\n",
    "total_loss_validation_plot = []\n",
    "total_acc_train_plot = []\n",
    "total_acc_validation_plot = []\n",
    "\n",
    "for epoch in range(EPOCHS):\n",
    "    total_acc_train = 0\n",
    "    total_loss_train = 0\n",
    "    total_acc_val = 0\n",
    "    total_loss_val = 0\n",
    "\n",
    "    ## Training and Validation\n",
    "    for indx, data in enumerate(train_dataloader):\n",
    "        input, label = data\n",
    "\n",
    "        input.to(device)\n",
    "        label.to(device)\n",
    "\n",
    "        prediction = model(input['input_ids'].squeeze(1),\n",
    "                            input['attention_mask'].squeeze(1)).squeeze(1)\n",
    "\n",
    "        batch_loss = loss(prediction, label)\n",
    "        total_loss_train += batch_loss.item()\n",
    "\n",
    "        acc = ((prediction).round() == label).sum().item()\n",
    "        total_acc_train += acc\n",
    "\n",
    "        batch_loss.backward()\n",
    "        optimizer.step()\n",
    "        optimizer.zero_grad()\n",
    "\n",
    "    ## Validation\n",
    "    with torch.no_grad():\n",
    "        for indx, data in enumerate(validation_dataloader):\n",
    "            input, label = data\n",
    "            input.to(device)\n",
    "            label.to(device)\n",
    "\n",
    "            prediction = model(input['input_ids'].squeeze(1),\n",
    "                            input['attention_mask'].squeeze(1)).squeeze(1)\n",
    "\n",
    "            batch_loss_val = loss(prediction, label)\n",
    "            total_loss_val += batch_loss_val.item()\n",
    "\n",
    "\n",
    "            acc = ((prediction).round() == label).sum().item()\n",
    "\n",
    "            total_acc_val += acc\n",
    "\n",
    "\n",
    "    total_loss_train_plot.append(round(total_loss_train/1000, 4))\n",
    "    total_loss_validation_plot.append(round(total_loss_val/100, 4))\n",
    "    total_acc_train_plot.append(round(total_acc_train/(training_data.__len__())*100, 4))\n",
    "    total_acc_validation_plot.append(round(total_acc_val/(validation_data.__len__())*100, 4))\n",
    "\n",
    "    print(f'''Epoch no. {epoch + 1} Train Loss: {total_loss_train/1000:.4f} Train Accuracy: {(total_acc_train/(training_data.__len__())*100):.4f} Validation Loss: {total_loss_val/100:.4f} Validation Accuracy: {(total_acc_val/(validation_data.__len__())*100):.4f}''')\n",
    "    print(\"=\"*50)"
   ]
  },
  {
   "cell_type": "markdown",
   "metadata": {},
   "source": [
    "# Testing"
   ]
  },
  {
   "cell_type": "code",
   "execution_count": 81,
   "metadata": {},
   "outputs": [
    {
     "name": "stdout",
     "output_type": "stream",
     "text": [
      "Accuracy Score is: 86.35%\n"
     ]
    }
   ],
   "source": [
    "with torch.no_grad():\n",
    "  total_loss_test = 0\n",
    "  total_acc_test = 0\n",
    "  for indx, data in enumerate(testing_dataloader):\n",
    "    input, label = data\n",
    "    input.to(device)\n",
    "    label.to(device)\n",
    "\n",
    "    prediction = model(input['input_ids'].squeeze(1), input['attention_mask'].squeeze(1)).squeeze(1)\n",
    "\n",
    "    batch_loss_val = loss(prediction, label)\n",
    "    total_loss_test += batch_loss_val.item()\n",
    "    acc = ((prediction).round() == label).sum().item()\n",
    "    total_acc_test += acc\n",
    "\n",
    "print(f\"Accuracy Score is: {round((total_acc_test/X_test.shape[0])*100, 2)}%\")"
   ]
  },
  {
   "cell_type": "markdown",
   "metadata": {},
   "source": [
    "# Visualizations"
   ]
  },
  {
   "cell_type": "code",
   "execution_count": 83,
   "metadata": {},
   "outputs": [
    {
     "data": {
      "image/png": "[encoded data removed]",
      "text/plain": [
       "<Figure size 1500x500 with 2 Axes>"
      ]
     },
     "metadata": {},
     "output_type": "display_data"
    }
   ],
   "source": [
    "fig, axs = plt.subplots(nrows=1, ncols=2, figsize=(15, 5))\n",
    "\n",
    "axs[0].plot(total_loss_train_plot, label='Training Loss')\n",
    "axs[0].plot(total_loss_validation_plot, label='Validation Loss')\n",
    "axs[0].set_title('Training and Validation Loss over Epochs')\n",
    "axs[0].set_xlabel('Epochs')\n",
    "axs[0].set_ylabel('Loss')\n",
    "axs[0].set_ylim([0, 1])\n",
    "axs[0].legend()\n",
    "\n",
    "axs[1].plot(total_acc_train_plot, label='Training Accuracy')\n",
    "axs[1].plot(total_acc_validation_plot, label='Validation Accuracy')\n",
    "axs[1].set_title('Training and Validation Accuracy over Epochs')\n",
    "axs[1].set_xlabel('Epochs')\n",
    "axs[1].set_ylabel('Accuracy')\n",
    "axs[1].set_ylim([0, 100])\n",
    "axs[1].legend()\n",
    "\n",
    "plt.tight_layout()\n",
    "\n",
    "plt.show()"
   ]
  },
  {
   "cell_type": "code",
   "execution_count": null,
   "metadata": {},
   "outputs": [],
   "source": []
  }
 ],
 "metadata": {
  "kernelspec": {
   "display_name": "tf_pyT",
   "language": "python",
   "name": "python3"
  },
  "language_info": {
   "codemirror_mode": {
    "name": "ipython",
    "version": 3
   },
   "file_extension": ".py",
   "mimetype": "text/x-python",
   "name": "python",
   "nbconvert_exporter": "python",
   "pygments_lexer": "ipython3",
   "version": "3.12.3"
  }
 },
 "nbformat": 4,
 "nbformat_minor": 2
}
